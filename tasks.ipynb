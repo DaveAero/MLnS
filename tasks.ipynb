{
 "cells": [
  {
   "cell_type": "markdown",
   "metadata": {},
   "source": [
    "# Tasks\n",
    "\n",
    "## Machine Learing & Statistics\n",
    "\n",
    "winter 2023\n",
    "\n",
    "---\n",
    "\n",
    "This is a test"
   ]
  },
  {
   "cell_type": "markdown",
   "metadata": {},
   "source": [
    "## Task 1\n",
    "\n",
    "> Square roots are difficult to calculate. In Python, you typically\n",
    "use the power operator (a double asterisk) or a package such\n",
    "as 'math'. In this task, you should write a function 'sqrt(x)' to\n",
    "approximate the square root of a floating point number x without\n",
    "using the power operator or a package.\n",
    "\n",
    "> Rather, you should use the Newton’s method. Start with an\n",
    "initial guess for the square root called $z_0$. You then repeatedly\n",
    "improve it using the following formula, until the difference\n",
    "between some previous guess $z_i$ and the next $z_{i+1}$\n",
    "is less than some threshold, say 0.01.\n",
    "\n",
    "$$ z_{i+1} = z_i - \\frac{z_i * z_i - x}{2z_i} $$\n"
   ]
  },
  {
   "cell_type": "code",
   "execution_count": 12,
   "metadata": {},
   "outputs": [],
   "source": [
    "def sqrt(x):\n",
    "    # x square root is being calculated\n",
    "\n",
    "    # Initial guess for the square root - can be anything.\n",
    "    z0 = 1\n",
    "\n",
    "    # Finding the first approximation of z using Newtons Method.\n",
    "    zi = z0 - (((z0*z0)-x)/(2*z0))\n",
    "    print(\"1: {}\".format(zi))\n",
    "\n",
    "    # Finding a second approximation to start checking the Delta z\n",
    "    ziPlusOne = zi - (((zi*zi)-x)/(2*zi))\n",
    "    print(\"2: {}\".format(ziPlusOne))\n",
    "\n",
    "    n=3\n",
    "    while abs(zi-ziPlusOne) >= 0.01:\n",
    "        print(\"{}: Delta z: {}\".format(n, abs(zi-ziPlusOne)))\n",
    "        zi = ziPlusOne\n",
    "        ziPlusOne = zi - (((zi*zi)-x)/(2*zi))\n",
    "        print(\"{}: {}\".format(n, ziPlusOne))\n",
    "        n += 1\n",
    "\n",
    "    print(\"Done! z = {}\".format(round(ziPlusOne,2)))"
   ]
  },
  {
   "cell_type": "code",
   "execution_count": 13,
   "metadata": {},
   "outputs": [
    {
     "name": "stdout",
     "output_type": "stream",
     "text": [
      "1: 2.0\n",
      "2: 1.75\n",
      "3: Delta z: 0.25\n",
      "3: 1.7321428571428572\n",
      "4: Delta z: 0.017857142857142794\n",
      "4: 1.7320508100147276\n",
      "Done! z = 1.73\n"
     ]
    }
   ],
   "source": [
    "sqrt(3)"
   ]
  }
 ],
 "metadata": {
  "kernelspec": {
   "display_name": "base",
   "language": "python",
   "name": "python3"
  },
  "language_info": {
   "codemirror_mode": {
    "name": "ipython",
    "version": 3
   },
   "file_extension": ".py",
   "mimetype": "text/x-python",
   "name": "python",
   "nbconvert_exporter": "python",
   "pygments_lexer": "ipython3",
   "version": "3.9.13"
  }
 },
 "nbformat": 4,
 "nbformat_minor": 2
}
